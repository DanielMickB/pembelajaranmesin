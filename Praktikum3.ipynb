{
  "nbformat": 4,
  "nbformat_minor": 0,
  "metadata": {
    "colab": {
      "name": "Praktikum3.ipynb",
      "provenance": [],
      "collapsed_sections": [],
      "mount_file_id": "1SHvy3hjsciz_4iMQOUCZVKsKvearEGzO",
      "authorship_tag": "ABX9TyNVDqxs+Po0zAR0eWCBY3OE",
      "include_colab_link": true
    },
    "kernelspec": {
      "name": "python3",
      "display_name": "Python 3"
    }
  },
  "cells": [
    {
      "cell_type": "markdown",
      "metadata": {
        "id": "view-in-github",
        "colab_type": "text"
      },
      "source": [
        "<a href=\"https://colab.research.google.com/github/DanielMickB/pembelajaranmesin/blob/main/Praktikum3.ipynb\" target=\"_parent\"><img src=\"https://colab.research.google.com/assets/colab-badge.svg\" alt=\"Open In Colab\"/></a>"
      ]
    },
    {
      "cell_type": "code",
      "metadata": {
        "id": "feG2rYwqhWxa",
        "outputId": "dbd33521-250e-41cf-bd83-22d6cc9edbec",
        "colab": {
          "base_uri": "https://localhost:8080/"
        }
      },
      "source": [
        "import numpy as np\n",
        "import pandas as pd\n",
        "path_=\"/content/drive/My Drive/Machine Learning/praktikum-03.csv\"\n",
        "dataset=pd.read_csv(path_)\n",
        "dataset.dtypes"
      ],
      "execution_count": 103,
      "outputs": [
        {
          "output_type": "execute_result",
          "data": {
            "text/plain": [
              "Customer Number     int64\n",
              "Customer Name      object\n",
              "2016               object\n",
              "2017               object\n",
              "Percent Growth     object\n",
              "Jan Units          object\n",
              "Month               int64\n",
              "Day                 int64\n",
              "Year                int64\n",
              "Active             object\n",
              "dtype: object"
            ]
          },
          "metadata": {
            "tags": []
          },
          "execution_count": 103
        }
      ]
    },
    {
      "cell_type": "code",
      "metadata": {
        "id": "ars4PBZ_jn3G",
        "outputId": "8bcbd3a0-9720-4c31-c3a6-3587cbb24423",
        "colab": {
          "base_uri": "https://localhost:8080/"
        }
      },
      "source": [
        "dataset.info()"
      ],
      "execution_count": 105,
      "outputs": [
        {
          "output_type": "stream",
          "text": [
            "<class 'pandas.core.frame.DataFrame'>\n",
            "RangeIndex: 5 entries, 0 to 4\n",
            "Data columns (total 10 columns):\n",
            " #   Column           Non-Null Count  Dtype \n",
            "---  ------           --------------  ----- \n",
            " 0   Customer Number  5 non-null      int64 \n",
            " 1   Customer Name    5 non-null      object\n",
            " 2   2016             5 non-null      object\n",
            " 3   2017             5 non-null      object\n",
            " 4   Percent Growth   5 non-null      object\n",
            " 5   Jan Units        5 non-null      object\n",
            " 6   Month            5 non-null      int64 \n",
            " 7   Day              5 non-null      int64 \n",
            " 8   Year             5 non-null      int64 \n",
            " 9   Active           5 non-null      object\n",
            "dtypes: int64(4), object(6)\n",
            "memory usage: 528.0+ bytes\n"
          ],
          "name": "stdout"
        }
      ]
    },
    {
      "cell_type": "code",
      "metadata": {
        "id": "Bw5LCUZHj8ho",
        "outputId": "6dd2e40b-0a34-4bb0-8853-48c03c4f2fb2",
        "colab": {
          "base_uri": "https://localhost:8080/"
        }
      },
      "source": [
        "dataset[\"Customer Number\"]=dataset[\"Customer Number\"].astype('int')\n",
        "dataset.dtypes"
      ],
      "execution_count": 106,
      "outputs": [
        {
          "output_type": "execute_result",
          "data": {
            "text/plain": [
              "Customer Number     int64\n",
              "Customer Name      object\n",
              "2016               object\n",
              "2017               object\n",
              "Percent Growth     object\n",
              "Jan Units          object\n",
              "Month               int64\n",
              "Day                 int64\n",
              "Year                int64\n",
              "Active             object\n",
              "dtype: object"
            ]
          },
          "metadata": {
            "tags": []
          },
          "execution_count": 106
        }
      ]
    },
    {
      "cell_type": "code",
      "metadata": {
        "id": "agcMneCRki8X"
      },
      "source": [
        "def convert_currency(val):\n",
        "\n",
        "  new_val=val.replace('.','').replace('$','')\n",
        "  return float(new_val)\n"
      ],
      "execution_count": 107,
      "outputs": []
    },
    {
      "cell_type": "code",
      "metadata": {
        "id": "S46B3Qfzn0DO"
      },
      "source": [
        "dataset['2016']=dataset['2016'].apply(convert_currency)\n",
        "dataset['2017']=dataset['2017'].apply(convert_currency)"
      ],
      "execution_count": 108,
      "outputs": []
    },
    {
      "cell_type": "code",
      "metadata": {
        "id": "jU4WOK9roVrE",
        "outputId": "5243d0a8-0021-4897-f8f3-795c58ac13f4",
        "colab": {
          "base_uri": "https://localhost:8080/"
        }
      },
      "source": [
        "dataset.dtypes"
      ],
      "execution_count": 109,
      "outputs": [
        {
          "output_type": "execute_result",
          "data": {
            "text/plain": [
              "Customer Number      int64\n",
              "Customer Name       object\n",
              "2016               float64\n",
              "2017               float64\n",
              "Percent Growth      object\n",
              "Jan Units           object\n",
              "Month                int64\n",
              "Day                  int64\n",
              "Year                 int64\n",
              "Active              object\n",
              "dtype: object"
            ]
          },
          "metadata": {
            "tags": []
          },
          "execution_count": 109
        }
      ]
    },
    {
      "cell_type": "code",
      "metadata": {
        "id": "RSXNhnC9pmgJ"
      },
      "source": [
        "def convert_percent(val):\n",
        "  new_val=val.replace('%','')\n",
        "  return float(new_val)/100"
      ],
      "execution_count": 110,
      "outputs": []
    },
    {
      "cell_type": "code",
      "metadata": {
        "id": "NN-5JWzyqNWu"
      },
      "source": [
        "dataset['Percent Growth']=dataset['Percent Growth'].apply(convert_percent)"
      ],
      "execution_count": 111,
      "outputs": []
    },
    {
      "cell_type": "code",
      "metadata": {
        "id": "OrPARMLfrsFO"
      },
      "source": [
        "dataset['Active']=np.where(dataset['Active']=='Y',True,False)"
      ],
      "execution_count": 112,
      "outputs": []
    },
    {
      "cell_type": "code",
      "metadata": {
        "id": "aabXpiihsCic",
        "outputId": "d27e6e56-d5a8-4455-d24f-67a44832817e",
        "colab": {
          "base_uri": "https://localhost:8080/",
          "height": 204
        }
      },
      "source": [
        "dataset"
      ],
      "execution_count": 113,
      "outputs": [
        {
          "output_type": "execute_result",
          "data": {
            "text/html": [
              "<div>\n",
              "<style scoped>\n",
              "    .dataframe tbody tr th:only-of-type {\n",
              "        vertical-align: middle;\n",
              "    }\n",
              "\n",
              "    .dataframe tbody tr th {\n",
              "        vertical-align: top;\n",
              "    }\n",
              "\n",
              "    .dataframe thead th {\n",
              "        text-align: right;\n",
              "    }\n",
              "</style>\n",
              "<table border=\"1\" class=\"dataframe\">\n",
              "  <thead>\n",
              "    <tr style=\"text-align: right;\">\n",
              "      <th></th>\n",
              "      <th>Customer Number</th>\n",
              "      <th>Customer Name</th>\n",
              "      <th>2016</th>\n",
              "      <th>2017</th>\n",
              "      <th>Percent Growth</th>\n",
              "      <th>Jan Units</th>\n",
              "      <th>Month</th>\n",
              "      <th>Day</th>\n",
              "      <th>Year</th>\n",
              "      <th>Active</th>\n",
              "    </tr>\n",
              "  </thead>\n",
              "  <tbody>\n",
              "    <tr>\n",
              "      <th>0</th>\n",
              "      <td>10002</td>\n",
              "      <td>Quest Industries</td>\n",
              "      <td>12500000.0</td>\n",
              "      <td>16250000.0</td>\n",
              "      <td>0.30</td>\n",
              "      <td>500</td>\n",
              "      <td>1</td>\n",
              "      <td>10</td>\n",
              "      <td>2015</td>\n",
              "      <td>True</td>\n",
              "    </tr>\n",
              "    <tr>\n",
              "      <th>1</th>\n",
              "      <td>552278</td>\n",
              "      <td>Smith Plumbing</td>\n",
              "      <td>92000000.0</td>\n",
              "      <td>101200000.0</td>\n",
              "      <td>0.10</td>\n",
              "      <td>700</td>\n",
              "      <td>6</td>\n",
              "      <td>15</td>\n",
              "      <td>2014</td>\n",
              "      <td>True</td>\n",
              "    </tr>\n",
              "    <tr>\n",
              "      <th>2</th>\n",
              "      <td>23477</td>\n",
              "      <td>ACME Industrial</td>\n",
              "      <td>5000000.0</td>\n",
              "      <td>6250000.0</td>\n",
              "      <td>0.25</td>\n",
              "      <td>125</td>\n",
              "      <td>3</td>\n",
              "      <td>29</td>\n",
              "      <td>2016</td>\n",
              "      <td>True</td>\n",
              "    </tr>\n",
              "    <tr>\n",
              "      <th>3</th>\n",
              "      <td>24900</td>\n",
              "      <td>Brekke LTD</td>\n",
              "      <td>35000000.0</td>\n",
              "      <td>49000000.0</td>\n",
              "      <td>0.04</td>\n",
              "      <td>75</td>\n",
              "      <td>10</td>\n",
              "      <td>27</td>\n",
              "      <td>2015</td>\n",
              "      <td>True</td>\n",
              "    </tr>\n",
              "    <tr>\n",
              "      <th>4</th>\n",
              "      <td>651029</td>\n",
              "      <td>Harbor Co</td>\n",
              "      <td>1500000.0</td>\n",
              "      <td>1275000.0</td>\n",
              "      <td>-0.15</td>\n",
              "      <td>Closed</td>\n",
              "      <td>2</td>\n",
              "      <td>2</td>\n",
              "      <td>2014</td>\n",
              "      <td>False</td>\n",
              "    </tr>\n",
              "  </tbody>\n",
              "</table>\n",
              "</div>"
            ],
            "text/plain": [
              "   Customer Number      Customer Name        2016  ...  Day  Year Active\n",
              "0            10002   Quest Industries  12500000.0  ...   10  2015   True\n",
              "1           552278     Smith Plumbing  92000000.0  ...   15  2014   True\n",
              "2            23477    ACME Industrial   5000000.0  ...   29  2016   True\n",
              "3            24900         Brekke LTD  35000000.0  ...   27  2015   True\n",
              "4           651029          Harbor Co   1500000.0  ...    2  2014  False\n",
              "\n",
              "[5 rows x 10 columns]"
            ]
          },
          "metadata": {
            "tags": []
          },
          "execution_count": 113
        }
      ]
    },
    {
      "cell_type": "code",
      "metadata": {
        "id": "95SX6kgGsKq3"
      },
      "source": [
        "dataset['Jan Units']=pd.to_numeric(dataset['Jan Units'],errors='coerce').fillna(0)"
      ],
      "execution_count": 115,
      "outputs": []
    },
    {
      "cell_type": "code",
      "metadata": {
        "id": "Qam3JLAtskDW",
        "outputId": "5263023e-73b3-4096-bf9f-fe09f65da38e",
        "colab": {
          "base_uri": "https://localhost:8080/"
        }
      },
      "source": [
        "pd.to_datetime(dataset[[\"Month\",\"Day\", \"Year\"]])"
      ],
      "execution_count": 118,
      "outputs": [
        {
          "output_type": "execute_result",
          "data": {
            "text/plain": [
              "0   2015-01-10\n",
              "1   2014-06-15\n",
              "2   2016-03-29\n",
              "3   2015-10-27\n",
              "4   2014-02-02\n",
              "dtype: datetime64[ns]"
            ]
          },
          "metadata": {
            "tags": []
          },
          "execution_count": 118
        }
      ]
    },
    {
      "cell_type": "code",
      "metadata": {
        "id": "k31LuK5eL0zg"
      },
      "source": [
        "dataset[\"Start Date\"]=pd.to_datetime(dataset[[\"Month\",\"Day\", \"Year\"]])"
      ],
      "execution_count": 119,
      "outputs": []
    },
    {
      "cell_type": "code",
      "metadata": {
        "id": "HVxUbVSXFU92",
        "outputId": "bac74907-8e62-4299-aa73-cdbc238a0b67",
        "colab": {
          "base_uri": "https://localhost:8080/"
        }
      },
      "source": [
        "dataset2=pd.read_csv(path_,\n",
        "                     dtype={\"Customer Number\": \"int\"},\n",
        "                     converters={\"2016\":convert_currency,\n",
        "                                 \"2017\":convert_currency,\n",
        "                                 \"Percent Growth\":convert_percent,\n",
        "                                 \"Jan Units\": lambda x: pd.to_numeric(x,errors=\"coerce\"),\n",
        "                                 \"Active\": lambda x: np.where(x==\"Y\",True,False)\n",
        "                                 })\n",
        "dataset2.dtypes"
      ],
      "execution_count": 120,
      "outputs": [
        {
          "output_type": "execute_result",
          "data": {
            "text/plain": [
              "Customer Number      int64\n",
              "Customer Name       object\n",
              "2016               float64\n",
              "2017               float64\n",
              "Percent Growth     float64\n",
              "Jan Units          float64\n",
              "Month                int64\n",
              "Day                  int64\n",
              "Year                 int64\n",
              "Active              object\n",
              "dtype: object"
            ]
          },
          "metadata": {
            "tags": []
          },
          "execution_count": 120
        }
      ]
    }
  ]
}